{
 "cells": [
  {
   "cell_type": "markdown",
   "id": "20c00fa5",
   "metadata": {},
   "source": [
    "## MATH 151 Lab 7"
   ]
  },
  {
   "cell_type": "markdown",
   "id": "7c243ef1",
   "metadata": {},
   "source": [
    "Put team members' names and section number here.\n",
    "\n",
    "Kevin Lei\n",
    "Jonathan Madding\n",
    "Pan Zhou\n",
    "John Schumacher\n",
    "\n",
    "Section number 576"
   ]
  },
  {
   "cell_type": "code",
   "execution_count": null,
   "id": "cf836732",
   "metadata": {},
   "outputs": [],
   "source": [
    "from sympy import *\n",
    "from sympy.plotting import (plot,plot_parametric)"
   ]
  },
  {
   "cell_type": "markdown",
   "id": "3169990f",
   "metadata": {},
   "source": [
    "### Question 1"
   ]
  },
  {
   "cell_type": "markdown",
   "id": "f0561a86",
   "metadata": {},
   "source": [
    "#### 1a"
   ]
  },
  {
   "cell_type": "code",
   "execution_count": null,
   "id": "0889599a",
   "metadata": {},
   "outputs": [],
   "source": [
    "x = symbols(\"x\")\n",
    "\n",
    "piece1 = 8 - x**2\n",
    "piece2 = 5 * E**(-1 * ((x - 2) / 2)**2) + x\n",
    "\n",
    "newton = x - diff(piece2, x) / diff(piece2, x, 2)\n",
    "print(f\"The critical values are {solve(diff(piece1, x), x)[0]}, {newton.subs(x, 2.4)}, {newton.subs(x, 4.7)}\")"
   ]
  },
  {
   "cell_type": "markdown",
   "id": "efdd616f",
   "metadata": {},
   "source": [
    "#### 1b"
   ]
  },
  {
   "cell_type": "code",
   "execution_count": null,
   "id": "582449e5",
   "metadata": {},
   "outputs": [],
   "source": [
    "wholeFunction = Piecewise((8 - x**2, x < 0), (5 * E**(-1 * ((x - 2) / 2)**2) + x, x >= 0))\n",
    "candidates = [-5, solve(diff(piece1, x), x)[0], newton.subs(x, 2.4), newton.subs(x, 4.7), 5]\n",
    "minimum = 0\n",
    "maximum = 0\n",
    "for i in candidates:\n",
    "    if wholeFunction.subs(x, i) > maximum:\n",
    "        maximum = wholeFunction.subs(x, i)\n",
    "    if wholeFunction.subs(x, i) < minimum:\n",
    "        minimum = wholeFunction.subs(x, i)\n",
    "i = -5\n",
    "while i <= 5:\n",
    "    if wholeFunction.subs(x, i) > maximum:\n",
    "        maximum = \"DNE\"\n",
    "        break\n",
    "    i += 0.01\n",
    "i = -5\n",
    "while i <= 5:\n",
    "    if wholeFunction.subs(x, i) < minimum:\n",
    "        minimum = \"DNE\"\n",
    "        break\n",
    "    i += 0.01\n",
    "    \n",
    "print(f\"The absolute maximum for f(x) is {maximum} and the absolute minimum is {minimum} in the domain of [-5, 5]\")"
   ]
  },
  {
   "cell_type": "markdown",
   "id": "0721fb00",
   "metadata": {},
   "source": [
    "#### 1c"
   ]
  },
  {
   "cell_type": "code",
   "execution_count": null,
   "id": "dd38ebc1",
   "metadata": {},
   "outputs": [],
   "source": [
    "candidates = [-10, solve(diff(piece1, x), x)[0], newton.subs(x, 2.4), newton.subs(x, 4.7), 10]\n",
    "minimum = 0\n",
    "maximum = 0\n",
    "for i in candidates:\n",
    "    if wholeFunction.subs(x, i) > maximum:\n",
    "        maximum = wholeFunction.subs(x, i)\n",
    "    if wholeFunction.subs(x, i) < minimum:\n",
    "        minimum = wholeFunction.subs(x, i)\n",
    "i = -10\n",
    "while i <= 10:\n",
    "    if wholeFunction.subs(x, i) > maximum:\n",
    "        maximum = \"DNE\"\n",
    "        break\n",
    "    i += 0.01\n",
    "i = -10\n",
    "while i <= 10:\n",
    "    if wholeFunction.subs(x, i) < minimum:\n",
    "        minimum = \"DNE\"\n",
    "        break\n",
    "    i += 0.01\n",
    "print(f\"The absolute maximum for f(x) is {maximum.evalf()} and the absolute minimum is {minimum.evalf()} in the domain of [-10, 10]\")"
   ]
  },
  {
   "cell_type": "markdown",
   "id": "2f0eb3e3",
   "metadata": {},
   "source": [
    "#### 1d"
   ]
  },
  {
   "cell_type": "code",
   "execution_count": null,
   "id": "ec6e60c6",
   "metadata": {},
   "outputs": [],
   "source": [
    "plot((piece1, (x, -10, 0)), (piece2, (x, 0, 10)), ylim = [-10, 10])"
   ]
  },
  {
   "cell_type": "markdown",
   "id": "8b00f000",
   "metadata": {},
   "source": [
    "### Question 2"
   ]
  },
  {
   "cell_type": "markdown",
   "id": "bacdc1db",
   "metadata": {},
   "source": [
    "#### 2a"
   ]
  },
  {
   "cell_type": "code",
   "execution_count": null,
   "id": "be2f2c71",
   "metadata": {},
   "outputs": [],
   "source": [
    "k, r0, r = symbols('k r0 r')\n",
    "v = k*r0*r**2 - k*r**3\n",
    "half_r0 = v.subs(r, .5*r0)\n",
    "twothirds_r0 = v.subs(r, 2/3*r0)\n",
    "one_r0 = v.subs(r, r0)\n",
    "print(f'{twothirds_r0} is greater than {half_r0} and {one_r0} on [.5r0, r0], so v has an abs max at r = (2/3)*r0 on [.5r0, r0]')"
   ]
  },
  {
   "cell_type": "markdown",
   "id": "23bc68a6",
   "metadata": {},
   "source": [
    "#### 2b"
   ]
  },
  {
   "cell_type": "code",
   "execution_count": null,
   "id": "357bbf0f",
   "metadata": {},
   "outputs": [],
   "source": [
    "print(f'the abs max value of v on [.5r0, r0] is {twothirds_r0}')"
   ]
  },
  {
   "cell_type": "markdown",
   "id": "94eb2168",
   "metadata": {},
   "source": [
    "#### 2c"
   ]
  },
  {
   "cell_type": "code",
   "execution_count": null,
   "id": "25fa3475",
   "metadata": {},
   "outputs": [],
   "source": [
    "vsub = v.subs({k:15000, r0: .65})\n",
    "print(f'the maximum value of the function is {vsub.subs(r,130/300)} and it occurs at r = 130/300 (or r = .4333)')"
   ]
  },
  {
   "cell_type": "markdown",
   "id": "7e489e8f",
   "metadata": {},
   "source": [
    "#### 2d"
   ]
  },
  {
   "cell_type": "code",
   "execution_count": null,
   "id": "fa3bed5b",
   "metadata": {},
   "outputs": [],
   "source": [
    "vplot = plot(vsub,(r,0,.65))"
   ]
  },
  {
   "cell_type": "markdown",
   "id": "1fb8b9b8",
   "metadata": {},
   "source": [
    "### Question 3"
   ]
  },
  {
   "cell_type": "markdown",
   "id": "ccffd0d0",
   "metadata": {},
   "source": [
    "#### 3a"
   ]
  },
  {
   "cell_type": "code",
   "execution_count": null,
   "id": "9ebb9309",
   "metadata": {},
   "outputs": [],
   "source": [
    "x = symbols(\"x\")\n",
    "fx = atan(x)\n",
    "gx = acot(x)\n",
    "\n",
    "dfx = diff(fx, x)\n",
    "dgx = diff(gx, x)\n",
    "print(f\"The derivative of f(x) + g(x) is {simplify(dfx + dgx)}\")"
   ]
  },
  {
   "cell_type": "markdown",
   "id": "baa2be1a",
   "metadata": {},
   "source": [
    "#### 3b"
   ]
  },
  {
   "cell_type": "code",
   "execution_count": null,
   "id": "ed50b7a1",
   "metadata": {},
   "outputs": [],
   "source": [
    "print(\"The derivative of f(x) + g(x) tells you that the graph of f(x) + g(x) is flat for all x\")"
   ]
  },
  {
   "cell_type": "markdown",
   "id": "e7e04f9d",
   "metadata": {},
   "source": [
    "#### 3c"
   ]
  },
  {
   "cell_type": "code",
   "execution_count": null,
   "id": "d3cb4575",
   "metadata": {},
   "outputs": [],
   "source": [
    "combined = Piecewise((fx + gx + pi, x <= 0), (fx + gx, x > 0))\n",
    "plot(combined)\n",
    "\n",
    "print(\"The function is arctan(x) + arccot(x) + pi when x <= 0, and arctan(x) + arccot(x) when x is greater than 0\")"
   ]
  },
  {
   "cell_type": "markdown",
   "id": "f78847a1",
   "metadata": {},
   "source": [
    "#### 3d"
   ]
  },
  {
   "cell_type": "code",
   "execution_count": null,
   "id": "9fff1823",
   "metadata": {},
   "outputs": [],
   "source": [
    "print(\"This makes sense for x > 0 because tan x is equal to cot(pi / 2 - x)\")"
   ]
  }
 ],
 "metadata": {
  "kernelspec": {
   "display_name": "Python 3.10.8 64-bit (microsoft store)",
   "language": "python",
   "name": "python3"
  },
  "language_info": {
   "codemirror_mode": {
    "name": "ipython",
    "version": 3
   },
   "file_extension": ".py",
   "mimetype": "text/x-python",
   "name": "python",
   "nbconvert_exporter": "python",
   "pygments_lexer": "ipython3",
   "version": "3.10.8"
  },
  "vscode": {
   "interpreter": {
    "hash": "bbdc6700f60de612a9776dd7a4bd392f8898b0d00245e53755bddb2281dd5e23"
   }
  }
 },
 "nbformat": 4,
 "nbformat_minor": 5
}
