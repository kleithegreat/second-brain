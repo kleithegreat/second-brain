{
 "cells": [
  {
   "cell_type": "markdown",
   "id": "20c00fa5",
   "metadata": {},
   "source": [
    "## MATH 151 Lab  3"
   ]
  },
  {
   "cell_type": "markdown",
   "id": "7c243ef1",
   "metadata": {},
   "source": [
    "Put team members' names and section number here.\n",
    "\n",
    "Kevin Lei\n",
    "Jonathan Madding\n",
    "Pan Zhou\n",
    "John Schumacher\n",
    "\n",
    "Section number 576"
   ]
  },
  {
   "cell_type": "code",
   "execution_count": 1,
   "id": "cf836732",
   "metadata": {},
   "outputs": [],
   "source": [
    "from sympy import *\n",
    "from sympy.plotting import (plot,plot_parametric)"
   ]
  },
  {
   "cell_type": "markdown",
   "id": "3169990f",
   "metadata": {},
   "source": [
    "### Question 1"
   ]
  },
  {
   "cell_type": "code",
   "execution_count": 6,
   "id": "b1fc832a",
   "metadata": {},
   "outputs": [
    {
     "name": "stdout",
     "output_type": "stream",
     "text": [
      "For f(x) to have a root in the domain of [0, 1], f(0) must be less than zero and f(1) must be greater than zero.\n"
     ]
    }
   ],
   "source": [
    "#conditions of IVT\n",
    "print(\"For f(x) to have a root in the domain of [0, 1], f(0) must be less than zero and f(1) must be greater than zero.\")"
   ]
  },
  {
   "cell_type": "markdown",
   "id": "f0561a86",
   "metadata": {},
   "source": [
    "#### 1a"
   ]
  },
  {
   "cell_type": "code",
   "execution_count": 5,
   "id": "0889599a",
   "metadata": {},
   "outputs": [
    {
     "name": "stdout",
     "output_type": "stream",
     "text": [
      "Plugging in 0 for x produces -1, and plugging in 1 for x produces 10, meaning that the y-value 0 must be contained within the domain of [0, 1].\n"
     ]
    }
   ],
   "source": [
    "#result of IVT\n",
    "a, b, c, d = symbols('a b c d')\n",
    "expr0 = a ** 5 + 4 * a ** 3 - 2 * a ** 2 + 8 * a - 1\n",
    "print(\"Plugging in 0 for x produces \"+ str(expr0.subs(a, 0)) + \", and plugging in 1 for x produces \" + str(expr0.subs(a, 1)) + \", meaning that the y-value 0 must be contained within the domain of [0, 1].\")"
   ]
  },
  {
   "cell_type": "markdown",
   "id": "efdd616f",
   "metadata": {},
   "source": [
    "#### 1b"
   ]
  },
  {
   "cell_type": "code",
   "execution_count": 24,
   "id": "582449e5",
   "metadata": {},
   "outputs": [
    {
     "name": "stdout",
     "output_type": "stream",
     "text": [
      "In the domain of [0, 1], f(x) has a root of 0.12804489141174547.\n"
     ]
    }
   ],
   "source": [
    "#root\n",
    "i = 0\n",
    "while i < len(solve(expr0, a)):\n",
    "    if solve(expr0, a)[i] >= 0 and solve(expr0, a)[i] <= 1:\n",
    "        root = solve(expr0, a)[i]\n",
    "        break\n",
    "    i += 1\n",
    "print(\"In the domain of [0, 1], f(x) has a root of \" + str(float(root)) + \".\")"
   ]
  },
  {
   "cell_type": "markdown",
   "id": "8b00f000",
   "metadata": {},
   "source": [
    "### Question 2"
   ]
  },
  {
   "cell_type": "markdown",
   "id": "bacdc1db",
   "metadata": {},
   "source": [
    "#### 2a"
   ]
  },
  {
   "cell_type": "code",
   "execution_count": 25,
   "id": "be2f2c71",
   "metadata": {},
   "outputs": [
    {
     "name": "stdout",
     "output_type": "stream",
     "text": [
      "As x approaches 3 from the left, f(x) approaches 3.\n",
      "As x approaches 3 from the right, f(x) approaches 3.\n",
      "f(x) is continuous at x = 3\n",
      "As x approaches 4 from the left, f(x) approaches 0.\n",
      "As x approaches 4 from the right, f(x) approaches 2.\n",
      "f(x) is discontinuous at x = 4. f(x) is left continuous at x = 4.\n",
      "As x approaches 5 from the left, f(x) approaches 3.\n",
      "As x approaches 5 from the right, f(x) approaches 3.\n",
      "f(x) is continuous at x = 5.\n"
     ]
    }
   ],
   "source": [
    "#limits\n",
    "expr1a = 2 * a - 3\n",
    "expr1b = 4 * a - a ** 2\n",
    "expr1c = (a ** 2 - 6 * a + 8) / (a - 4)\n",
    "expr1d = E ** ((a - 4) * ln(3))\n",
    "\n",
    "print(f\"As x approaches 3 from the left, f(x) approaches {limit(expr1a, a, 3)}.\")\n",
    "print(f\"As x approaches 3 from the right, f(x) approaches {limit(expr1b, a, 3)}.\")\n",
    "print(\"f(x) is continuous at x = 3\")\n",
    "print(f\"As x approaches 4 from the left, f(x) approaches {limit(expr1b, a, 4)}.\")\n",
    "print(f\"As x approaches 4 from the right, f(x) approaches {limit(expr1c, a, 4)}.\")\n",
    "print(\"f(x) is discontinuous at x = 4. f(x) is left continuous at x = 4.\")\n",
    "print(f\"As x approaches 5 from the left, f(x) approaches {limit(expr1c, a, 5)}.\")\n",
    "print(f\"As x approaches 5 from the right, f(x) approaches {limit(expr1d, a, 5)}.\")\n",
    "print(\"f(x) is continuous at x = 5.\")"
   ]
  },
  {
   "cell_type": "markdown",
   "id": "23bc68a6",
   "metadata": {},
   "source": [
    "#### 2b"
   ]
  },
  {
   "cell_type": "code",
   "execution_count": 26,
   "id": "357bbf0f",
   "metadata": {},
   "outputs": [
    {
     "data": {
      "image/png": "[encoded data removed]",
      "text/plain": [
       "<Figure size 432x288 with 1 Axes>"
      ]
     },
     "metadata": {
      "needs_background": "light"
     },
     "output_type": "display_data"
    },
    {
     "data": {
      "text/plain": [
       "<sympy.plotting.plot.Plot at 0x2502a995a30>"
      ]
     },
     "execution_count": 26,
     "metadata": {},
     "output_type": "execute_result"
    }
   ],
   "source": [
    "#graph\n",
    "plot((expr1a, (a, 0 , 3)), (expr1b, (a, 3, 4)), (expr1c, (a, 4, 5)), (expr1d, (a, 5, 6)), ylim = (-5, 8))"
   ]
  },
  {
   "cell_type": "markdown",
   "id": "1fb8b9b8",
   "metadata": {},
   "source": [
    "### Question 3"
   ]
  },
  {
   "cell_type": "markdown",
   "id": "ccffd0d0",
   "metadata": {},
   "source": [
    "#### 3a"
   ]
  },
  {
   "cell_type": "code",
   "execution_count": 27,
   "id": "9ebb9309",
   "metadata": {},
   "outputs": [
    {
     "data": {
      "image/png": "[encoded data removed]",
      "text/plain": [
       "<Figure size 432x288 with 1 Axes>"
      ]
     },
     "metadata": {
      "needs_background": "light"
     },
     "output_type": "display_data"
    },
    {
     "data": {
      "text/plain": [
       "<sympy.plotting.plot.Plot at 0x2502aa03a60>"
      ]
     },
     "execution_count": 27,
     "metadata": {},
     "output_type": "execute_result"
    }
   ],
   "source": [
    "#graph\n",
    "expr2 = (a * b) / (b + (a - b) * (E ** (-1 * c * d)))\n",
    "plot(expr2.subs([(a, 1000), (b, 10), (c, 0.1)]), (d, 0, 100), ylim = (0, 1000))"
   ]
  },
  {
   "cell_type": "code",
   "execution_count": 28,
   "id": "4bbc7faf",
   "metadata": {},
   "outputs": [
    {
     "name": "stdout",
     "output_type": "stream",
     "text": [
      "The limit of P(t) where K = 1000 as t approaches infinity is 1000.\n"
     ]
    }
   ],
   "source": [
    "#limit\n",
    "print(f\"The limit of P(t) where K = 1000 as t approaches infinity is {limit(expr2.subs([(a, 1000), (b, 10), (c, 0.1)]), d, oo)}.\")"
   ]
  },
  {
   "cell_type": "markdown",
   "id": "baa2be1a",
   "metadata": {},
   "source": [
    "#### 3b"
   ]
  },
  {
   "cell_type": "code",
   "execution_count": 29,
   "id": "ed50b7a1",
   "metadata": {},
   "outputs": [
    {
     "data": {
      "image/png": "[encoded data removed]",
      "text/plain": [
       "<Figure size 432x288 with 1 Axes>"
      ]
     },
     "metadata": {
      "needs_background": "light"
     },
     "output_type": "display_data"
    },
    {
     "data": {
      "text/plain": [
       "<sympy.plotting.plot.Plot at 0x2502a995460>"
      ]
     },
     "execution_count": 29,
     "metadata": {},
     "output_type": "execute_result"
    }
   ],
   "source": [
    "#graph\n",
    "plot(expr2.subs([(a, 1), (b, 10), (c, 0.1)]), (d, 0, 50), ylim = (0, 10))"
   ]
  },
  {
   "cell_type": "code",
   "execution_count": 30,
   "id": "6c67d267",
   "metadata": {},
   "outputs": [
    {
     "name": "stdout",
     "output_type": "stream",
     "text": [
      "The limit of P(t) where K = 1 as t approaches infinity is 1.\n"
     ]
    }
   ],
   "source": [
    "#limit\n",
    "print(f\"The limit of P(t) where K = 1 as t approaches infinity is {limit(expr2.subs([(a, 1), (b, 10), (c, 0.1)]), d, oo)}.\")"
   ]
  },
  {
   "cell_type": "markdown",
   "id": "f78847a1",
   "metadata": {},
   "source": [
    "#### 3c"
   ]
  },
  {
   "cell_type": "code",
   "execution_count": 31,
   "id": "9fff1823",
   "metadata": {},
   "outputs": [
    {
     "data": {
      "image/png": "[encoded data removed]",
      "text/plain": [
       "<Figure size 432x288 with 1 Axes>"
      ]
     },
     "metadata": {
      "needs_background": "light"
     },
     "output_type": "display_data"
    },
    {
     "data": {
      "text/plain": [
       "<sympy.plotting.plot.Plot at 0x2502aa98760>"
      ]
     },
     "execution_count": 31,
     "metadata": {},
     "output_type": "execute_result"
    }
   ],
   "source": [
    "#graph\n",
    "plot(expr2.subs([(a, 15), (b, 10), (c, 0.1)]), (d, 0, 20), ylim = (0, 15))"
   ]
  },
  {
   "cell_type": "code",
   "execution_count": 32,
   "id": "2d5336e7",
   "metadata": {},
   "outputs": [
    {
     "name": "stdout",
     "output_type": "stream",
     "text": [
      "The limit of P(t) where K = 15 as t approaches infinity is 15.\n"
     ]
    }
   ],
   "source": [
    "#limit\n",
    "print(f\"The limit of P(t) where K = 15 as t approaches infinity is {limit(expr2.subs([(a, 15), (b, 10), (c, 0.1)]), d, oo)}.\")"
   ]
  },
  {
   "cell_type": "markdown",
   "id": "01baba23",
   "metadata": {},
   "source": [
    "#### 3d"
   ]
  },
  {
   "cell_type": "code",
   "execution_count": 33,
   "id": "311a556a",
   "metadata": {},
   "outputs": [
    {
     "name": "stdout",
     "output_type": "stream",
     "text": [
      "As the variable t goes to infinity, population size goes to whatever value variable K is. From this we can infer that the variable K represents the maximum population size of the model.\n"
     ]
    }
   ],
   "source": [
    "#observation on K\n",
    "print(\"As the variable t goes to infinity, population size goes to whatever value variable K is. From this we can infer that the variable K represents the maximum population size of the model.\")"
   ]
  },
  {
   "cell_type": "code",
   "execution_count": null,
   "id": "76c974ee",
   "metadata": {},
   "outputs": [],
   "source": []
  }
 ],
 "metadata": {
  "kernelspec": {
   "display_name": "Python 3 (ipykernel)",
   "language": "python",
   "name": "python3"
  },
  "language_info": {
   "codemirror_mode": {
    "name": "ipython",
    "version": 3
   },
   "file_extension": ".py",
   "mimetype": "text/x-python",
   "name": "python",
   "nbconvert_exporter": "python",
   "pygments_lexer": "ipython3",
   "version": "3.9.12"
  },
  "vscode": {
   "interpreter": {
    "hash": "d1a1120d6b703f94660d8a0a86efaeba37d220648474f25f942e1d3645fcdcb7"
   }
  }
 },
 "nbformat": 4,
 "nbformat_minor": 5
}
