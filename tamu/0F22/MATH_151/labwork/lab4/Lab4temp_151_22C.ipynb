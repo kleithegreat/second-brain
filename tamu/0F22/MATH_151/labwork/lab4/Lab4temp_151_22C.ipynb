{
 "cells": [
  {
   "cell_type": "markdown",
   "id": "20c00fa5",
   "metadata": {},
   "source": [
    "## MATH 151 Lab  4"
   ]
  },
  {
   "cell_type": "markdown",
   "id": "7c243ef1",
   "metadata": {},
   "source": [
    "Put team members' names and section number here.\n",
    "\n",
    "Kevin Lei\n",
    "Jonathan Madding\n",
    "Pan Zhou\n",
    "John Schumacher\n",
    "\n",
    "Section number 576"
   ]
  },
  {
   "cell_type": "code",
   "execution_count": null,
   "id": "cf836732",
   "metadata": {},
   "outputs": [],
   "source": [
    "from sympy import *\n",
    "from sympy.plotting import (plot,plot_parametric)"
   ]
  },
  {
   "cell_type": "markdown",
   "id": "3169990f",
   "metadata": {},
   "source": [
    "### Question 1"
   ]
  },
  {
   "cell_type": "markdown",
   "id": "f0561a86",
   "metadata": {},
   "source": [
    "#### 1a"
   ]
  },
  {
   "cell_type": "code",
   "execution_count": null,
   "id": "0889599a",
   "metadata": {},
   "outputs": [],
   "source": [
    "#tangent line\n",
    "x, t, n = symbols('x, t, n')\n",
    "expr0 = (2 * x + 1) / (x ** 2 + 2)\n",
    "tangent = expr0.subs(x, 2) + diff(expr0, x).subs(x, 2) * (x - 2)\n",
    "print(f\"The equation of the tangent line where x = 2 is y = {tangent}\")"
   ]
  },
  {
   "cell_type": "markdown",
   "id": "efdd616f",
   "metadata": {},
   "source": [
    "#### 1b"
   ]
  },
  {
   "cell_type": "code",
   "execution_count": null,
   "id": "582449e5",
   "metadata": {},
   "outputs": [],
   "source": [
    "#normal line\n",
    "normal = expr0.subs(x, 2) + -1 / (diff(expr0, x).subs(x, 2)) * (x - 2)\n",
    "print(f\"The equation of the normal line where x = 2 is y = {normal}\")"
   ]
  },
  {
   "cell_type": "markdown",
   "id": "0721fb00",
   "metadata": {},
   "source": [
    "#### 1c"
   ]
  },
  {
   "cell_type": "code",
   "execution_count": null,
   "id": "dd38ebc1",
   "metadata": {},
   "outputs": [],
   "source": [
    "#graph\n",
    "plot((tangent, (x, 0, 3)), (normal, (x, 0, 3)), (expr0, (x, 0, 3)), ylim = (-1, 2))"
   ]
  },
  {
   "cell_type": "markdown",
   "id": "8b00f000",
   "metadata": {},
   "source": [
    "### Question 2"
   ]
  },
  {
   "cell_type": "markdown",
   "id": "bacdc1db",
   "metadata": {},
   "source": [
    "#### 2a"
   ]
  },
  {
   "cell_type": "code",
   "execution_count": null,
   "id": "be2f2c71",
   "metadata": {},
   "outputs": [],
   "source": [
    "#[-2pi,2pi]\n",
    "expr1 = sin(x) - (1/1000) * sin(1000 * x)\n",
    "plot(expr1, (x, -2 * pi, 2 * pi))\n",
    "print(\"Slope of y look like about 1 near x = 0\")"
   ]
  },
  {
   "cell_type": "markdown",
   "id": "23bc68a6",
   "metadata": {},
   "source": [
    "#### 2b"
   ]
  },
  {
   "cell_type": "code",
   "execution_count": null,
   "id": "357bbf0f",
   "metadata": {},
   "outputs": [],
   "source": [
    "#[-0.25,0.25]\n",
    "plot(expr1, (x, -0.25, 0.25))\n",
    "print(\"Slope of y looks like about 1 near x = 0\")"
   ]
  },
  {
   "cell_type": "markdown",
   "id": "94eb2168",
   "metadata": {},
   "source": [
    "#### 2c"
   ]
  },
  {
   "cell_type": "code",
   "execution_count": null,
   "id": "25fa3475",
   "metadata": {},
   "outputs": [],
   "source": [
    "#Evaluate slope of tangent line\n",
    "print(f\"The actual slope of the tangent line of y at x = 0 is {diff(expr1, x).subs(x, 0)}\")"
   ]
  },
  {
   "cell_type": "markdown",
   "id": "df320613",
   "metadata": {},
   "source": [
    "#### 2d"
   ]
  },
  {
   "cell_type": "code",
   "execution_count": null,
   "id": "dd5a4fcc",
   "metadata": {},
   "outputs": [],
   "source": [
    "#[-0.001,0.001]\n",
    "plot(expr1, (x, -0.001, 0.001))"
   ]
  },
  {
   "cell_type": "markdown",
   "id": "1fb8b9b8",
   "metadata": {},
   "source": [
    "### Question 3"
   ]
  },
  {
   "cell_type": "markdown",
   "id": "ccffd0d0",
   "metadata": {},
   "source": [
    "#### 3a"
   ]
  },
  {
   "cell_type": "code",
   "execution_count": null,
   "id": "9ebb9309",
   "metadata": {},
   "outputs": [],
   "source": [
    "#AROC\n",
    "expr2 = 100000 * (1 - (1/60) * t) ** 2\n",
    "print(f\"The average rate of change of V from 0 to 10 minutes is {(expr2.subs(t, 10) - expr2.subs(t, 0)) / 10}\")"
   ]
  },
  {
   "cell_type": "markdown",
   "id": "baa2be1a",
   "metadata": {},
   "source": [
    "#### 3b"
   ]
  },
  {
   "cell_type": "code",
   "execution_count": null,
   "id": "ed50b7a1",
   "metadata": {},
   "outputs": [],
   "source": [
    "#IROC\n",
    "print(f\"The instantaneous rate of change of V with respect to t is V'(t) = {diff(expr2, t)}\")"
   ]
  },
  {
   "cell_type": "markdown",
   "id": "f78847a1",
   "metadata": {},
   "source": [
    "#### 3c"
   ]
  },
  {
   "cell_type": "code",
   "execution_count": null,
   "id": "9fff1823",
   "metadata": {},
   "outputs": [],
   "source": [
    "#relationship?\n",
    "print(f\"The instantaneous rate of change of V at t = 10 minutes is {diff(expr2, t).subs(t, 10)} gallons per minute\")\n",
    "print(\"The answers in parts (a) and (c) are different because part (a) is asking for the average rate of change over a period of time, while part (c) is asking for the instantaneous rate of change at a specific point in time. The two are different because the functions rate of change changes with time since it is a quadratic and not a linear function.\")"
   ]
  },
  {
   "cell_type": "markdown",
   "id": "f9fde57e",
   "metadata": {},
   "source": [
    "### Question 4"
   ]
  },
  {
   "cell_type": "markdown",
   "id": "7e54bb48",
   "metadata": {},
   "source": [
    "#### 4a"
   ]
  },
  {
   "cell_type": "code",
   "execution_count": null,
   "id": "3ce0b4af",
   "metadata": {},
   "outputs": [],
   "source": [
    "#8 derivatives\n",
    "expr3 = E ** x * (1 + x ** 2)\n",
    "i = 1\n",
    "while i <= 8:\n",
    "    print(\"f\", end = \"\")\n",
    "    for j in range(i):\n",
    "        print(\"'\", end = \"\")\n",
    "    print(f\"(x) = {diff(expr3, x, i)}\")\n",
    "    i += 1"
   ]
  },
  {
   "cell_type": "markdown",
   "id": "cd9781f6",
   "metadata": {},
   "source": [
    "#### 4b"
   ]
  },
  {
   "cell_type": "code",
   "execution_count": null,
   "id": "918804cf",
   "metadata": {},
   "outputs": [],
   "source": [
    "#formula for derivative\n",
    "nthderiv = E ** x * (x ** 2 + 2 * n * x + (n ** 2 - n + 1))\n",
    "print(f\"The formula for the nth derivative of f is {nthderiv}\")"
   ]
  },
  {
   "cell_type": "markdown",
   "id": "f4a58c47",
   "metadata": {},
   "source": [
    "#### 4c"
   ]
  },
  {
   "cell_type": "code",
   "execution_count": null,
   "id": "8bda340d",
   "metadata": {},
   "outputs": [],
   "source": [
    "#50th\n",
    "print(f\"{diff(expr3, x, 50)}\")\n",
    "print(f\"{nthderiv.subs(n, 50)}\")"
   ]
  }
 ],
 "metadata": {
  "kernelspec": {
   "display_name": "Python 3.10.7 64-bit (microsoft store)",
   "language": "python",
   "name": "python3"
  },
  "language_info": {
   "codemirror_mode": {
    "name": "ipython",
    "version": 3
   },
   "file_extension": ".py",
   "mimetype": "text/x-python",
   "name": "python",
   "nbconvert_exporter": "python",
   "pygments_lexer": "ipython3",
   "version": "3.10.7"
  },
  "vscode": {
   "interpreter": {
    "hash": "d1a1120d6b703f94660d8a0a86efaeba37d220648474f25f942e1d3645fcdcb7"
   }
  }
 },
 "nbformat": 4,
 "nbformat_minor": 5
}
