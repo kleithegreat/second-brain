{
 "cells": [
  {
   "cell_type": "markdown",
   "id": "20c00fa5",
   "metadata": {},
   "source": [
    "## MATH 151 Lab  6"
   ]
  },
  {
   "cell_type": "markdown",
   "id": "7c243ef1",
   "metadata": {},
   "source": [
    "Put team members' names and section number here.\n",
    "\n",
    "Kevin Lei\n",
    "Jonathan Madding\n",
    "Pan Zhou\n",
    "John Schumacher\n",
    "\n",
    "Section number 576"
   ]
  },
  {
   "cell_type": "code",
   "execution_count": 15,
   "id": "cf836732",
   "metadata": {},
   "outputs": [],
   "source": [
    "from sympy import *\n",
    "from sympy.plotting import (plot,plot_parametric)"
   ]
  },
  {
   "cell_type": "markdown",
   "id": "3169990f",
   "metadata": {},
   "source": [
    "### Question 1"
   ]
  },
  {
   "cell_type": "markdown",
   "id": "f0561a86",
   "metadata": {},
   "source": [
    "#### 1a"
   ]
  },
  {
   "cell_type": "code",
   "execution_count": 16,
   "id": "0889599a",
   "metadata": {},
   "outputs": [
    {
     "name": "stdout",
     "output_type": "stream",
     "text": [
      "r = [-1, 1/2]\n"
     ]
    }
   ],
   "source": [
    "x, r = symbols(\"x, r\")\n",
    "y = E ** (r * x)\n",
    "\n",
    "print(\"r = \", end = \"\")\n",
    "print(solve((2 * diff(y, x, 2) + diff(y, x, 1) - y), r))"
   ]
  },
  {
   "cell_type": "markdown",
   "id": "efdd616f",
   "metadata": {},
   "source": [
    "#### 1b"
   ]
  },
  {
   "cell_type": "code",
   "execution_count": 17,
   "id": "582449e5",
   "metadata": {},
   "outputs": [
    {
     "name": "stdout",
     "output_type": "stream",
     "text": [
      "r = [-3 - I, -3 + I]\n"
     ]
    }
   ],
   "source": [
    "print(\"r = \", end = \"\")\n",
    "print(solve((diff(y, x, 2) + 6 * diff(y, x, 1) + 10 * y), r))"
   ]
  },
  {
   "cell_type": "markdown",
   "id": "0721fb00",
   "metadata": {},
   "source": [
    "#### 1c"
   ]
  },
  {
   "cell_type": "code",
   "execution_count": 18,
   "id": "dd38ebc1",
   "metadata": {},
   "outputs": [
    {
     "name": "stdout",
     "output_type": "stream",
     "text": [
      "6*(-sin(x) + cos(x))*exp(-3*x) - 8*(sin(x) + cos(x))*exp(-3*x) + 2*(7*sin(x) + cos(x))*exp(-3*x)\n",
      "The cos(x) + sin(x) part of the equation allows it to be a solution of the differential equation without having an imaginary exponent.\n"
     ]
    }
   ],
   "source": [
    "y = E ** (-3 * x) * (cos(x) + sin(x))\n",
    "print((diff(y, x, 2) + 6 * diff(y, x, 1) + 10 * y))\n",
    "print(\"The cos(x) + sin(x) part of the equation allows it to be a solution of the differential equation without having an imaginary exponent.\")"
   ]
  },
  {
   "cell_type": "markdown",
   "id": "8b00f000",
   "metadata": {},
   "source": [
    "### Question 2"
   ]
  },
  {
   "cell_type": "markdown",
   "id": "bacdc1db",
   "metadata": {},
   "source": [
    "#### 2a"
   ]
  },
  {
   "cell_type": "code",
   "execution_count": 19,
   "id": "be2f2c71",
   "metadata": {},
   "outputs": [
    {
     "name": "stdout",
     "output_type": "stream",
     "text": [
      "<sqrt(3)*E*t + E, -t*exp(sqrt(3)/2)/2 + exp(sqrt(3)/2)>\n",
      "<sqrt(3)*E*t + 2.71828182845905, -t*exp(sqrt(3)/2)/2 + 2.37744267523616>\n"
     ]
    }
   ],
   "source": [
    "t = symbols(\"t\")\n",
    "x = E ** (2 * sin(t))\n",
    "y = E ** cos(t)\n",
    "\n",
    "print(f\"<{x.subs(t, pi / 6) + diff(x, t, 1).subs(t, pi / 6) * t}, {y.subs(t, pi / 6) + diff(y, t, 1).subs(t, pi / 6) * t}>\")\n",
    "print(f\"<{N(x.subs(t, pi / 6)) + diff(x, t, 1).subs(t, pi / 6) * t}, {N(y.subs(t, pi / 6)) + diff(y, t, 1).subs(t, pi / 6) * t}>\")"
   ]
  },
  {
   "cell_type": "markdown",
   "id": "23bc68a6",
   "metadata": {},
   "source": [
    "#### 2b"
   ]
  },
  {
   "cell_type": "code",
   "execution_count": 20,
   "id": "357bbf0f",
   "metadata": {},
   "outputs": [
    {
     "name": "stdout",
     "output_type": "stream",
     "text": [
      "Horizontal:\n",
      "(1, E)\n",
      "(1, exp(-1))\n",
      "Vertical:\n",
      "(exp(2), 1)\n",
      "(exp(-2), 1)\n"
     ]
    }
   ],
   "source": [
    "print(\"Horizontal:\")\n",
    "for i in solve(diff(y, t, 1)):\n",
    "    print(f\"({x.subs(t, i)}, {y.subs(t, i)})\")\n",
    "\n",
    "print(\"Vertical:\")\n",
    "for i in solve(diff(x, t, 1)):\n",
    "    print(f\"({x.subs(t, i)}, {y.subs(t, i)})\")"
   ]
  },
  {
   "cell_type": "markdown",
   "id": "94eb2168",
   "metadata": {},
   "source": [
    "#### 2c"
   ]
  },
  {
   "cell_type": "code",
   "execution_count": 21,
   "id": "25fa3475",
   "metadata": {},
   "outputs": [
    {
     "data": {
      "image/png": "[encoded data removed]",
      "text/plain": [
       "<Figure size 640x480 with 1 Axes>"
      ]
     },
     "metadata": {},
     "output_type": "display_data"
    }
   ],
   "source": [
    "import math\n",
    "t = symbols(\"t\")\n",
    "x = E ** (2 * sin(t))\n",
    "y = E ** cos(t)\n",
    "plot0 = plot_parametric((x, y), (t, 0, 2 * pi), show = false)\n",
    "p_vert1=plot_parametric((math.e**-2,t,(t,.5,1.5)),(math.e**2,t,(t,.5,1.5)),show=False)\n",
    "p_horiz1=plot_parametric((t,math.e,(t,0,2.5)),(t,math.e**-1,(t,0,2.5)),show=False)\n",
    "plot0.extend(p_vert1)\n",
    "plot0.extend(p_horiz1)\n",
    "plot0.show()\n"
   ]
  },
  {
   "cell_type": "markdown",
   "id": "1fb8b9b8",
   "metadata": {},
   "source": [
    "### Question 3"
   ]
  },
  {
   "cell_type": "markdown",
   "id": "ccffd0d0",
   "metadata": {},
   "source": [
    "#### 3a"
   ]
  },
  {
   "cell_type": "code",
   "execution_count": 22,
   "id": "9ebb9309",
   "metadata": {},
   "outputs": [
    {
     "data": {
      "image/png": "[encoded data removed]",
      "text/plain": [
       "<Figure size 640x480 with 1 Axes>"
      ]
     },
     "metadata": {},
     "output_type": "display_data"
    },
    {
     "data": {
      "text/plain": [
       "<sympy.plotting.plot.Plot at 0x2040b0cf4f0>"
      ]
     },
     "execution_count": 22,
     "metadata": {},
     "output_type": "execute_result"
    }
   ],
   "source": [
    "x, y = symbols(\"x, y\")\n",
    "limacon = (-1 * ((x ** 2 + y ** 2) / 4) + 2 * x - 2) ** 2 - 5 * (x ** 2 + y ** 2)\n",
    "\n",
    "plot_implicit(limacon, (x, -5, 20), (y, -15, 15))"
   ]
  },
  {
   "cell_type": "markdown",
   "id": "baa2be1a",
   "metadata": {},
   "source": [
    "#### 3b"
   ]
  },
  {
   "cell_type": "code",
   "execution_count": 23,
   "id": "ed50b7a1",
   "metadata": {},
   "outputs": [
    {
     "name": "stdout",
     "output_type": "stream",
     "text": [
      "(-x**3/y + 12*x**2/y - x*y + 4*y + 32/y)/(x**2 - 8*x + y**2 - 32)\n"
     ]
    }
   ],
   "source": [
    "print(idiff(limacon, y, x))"
   ]
  },
  {
   "cell_type": "markdown",
   "id": "e7e04f9d",
   "metadata": {},
   "source": [
    "#### 3c"
   ]
  },
  {
   "cell_type": "code",
   "execution_count": 24,
   "id": "d3cb4575",
   "metadata": {},
   "outputs": [
    {
     "name": "stdout",
     "output_type": "stream",
     "text": [
      "Vertical tangents at (-3/2, -sqrt(71)/2), (-3/2, sqrt(71)/2), (4 + 2*sqrt(5) + 2*sqrt(7 + 4*sqrt(5)), 0), (-2*sqrt(5) + 4 - 2*sqrt(7 - 4*sqrt(5)), 0)\n"
     ]
    }
   ],
   "source": [
    "from sympy import *\n",
    "from sympy.plotting import (plot, plot_parametric)\n",
    "x = symbols('x')\n",
    "y = symbols('y')\n",
    "limacon = (-1 * ((x**2 + y ** 2) / 4) + 2 * x - 2) ** 2 - 5 * (x ** 2 + y ** 2)\n",
    "dydx = idiff(limacon, y, x)\n",
    "den = denom(dydx)\n",
    "vtan = solve([den, limacon],[x, y])\n",
    "vtan2 = solve(limacon.subs(y, 0))\n",
    "print(f'Vertical tangents at {vtan[0]}, {vtan[1]}, ({vtan2[0]}, 0), ({vtan2[1]}, 0)')\n"
   ]
  },
  {
   "cell_type": "markdown",
   "id": "f78847a1",
   "metadata": {},
   "source": [
    "#### 3d"
   ]
  },
  {
   "cell_type": "code",
   "execution_count": 25,
   "id": "9fff1823",
   "metadata": {},
   "outputs": [
    {
     "data": {
      "image/png": "[encoded data removed]",
      "text/plain": [
       "<Figure size 640x480 with 1 Axes>"
      ]
     },
     "metadata": {},
     "output_type": "display_data"
    }
   ],
   "source": [
    "#3d\n",
    "pcurve=plot_implicit(limacon,(x,-5,20),(y,-15,15),show=False)\n",
    "t=symbols('t')\n",
    "p_vert=plot_parametric((-3/2,t,(t,-15,15)),(4 + 2*sqrt(5) + 2*sqrt(7 + 4*sqrt(5)),t,(t,-15,15)),show=False)\n",
    "p_vert2 = plot_parametric(.47,t,(t,-15,15), show = False)\n",
    "pcurve.extend(p_vert)\n",
    "pcurve.extend(p_vert2)\n",
    "pcurve.show()\n"
   ]
  },
  {
   "cell_type": "markdown",
   "id": "f9fde57e",
   "metadata": {},
   "source": [
    "### Question 4"
   ]
  },
  {
   "cell_type": "markdown",
   "id": "7e54bb48",
   "metadata": {},
   "source": [
    "#### 4a"
   ]
  },
  {
   "cell_type": "code",
   "execution_count": 26,
   "id": "3ce0b4af",
   "metadata": {},
   "outputs": [
    {
     "name": "stdout",
     "output_type": "stream",
     "text": [
      "x**0.2*(x**3 + 1)**0.5*(1.5*x**2/(x**3 + 1) + 28/(2 - 7*x) + 0.2/x)/(2 - 7*x)**4\n"
     ]
    }
   ],
   "source": [
    "x = symbols(\"x\")\n",
    "y = (x ** (1 / 5) * (x ** 3 + 1) ** (1 / 2)) / (2 - 7 * x) ** 4\n",
    "\n",
    "expanded = expand_log(ln(y), force = True)\n",
    "print(diff(expanded, x, 1) * y)"
   ]
  },
  {
   "cell_type": "markdown",
   "id": "cd9781f6",
   "metadata": {},
   "source": [
    "#### 4b"
   ]
  },
  {
   "cell_type": "code",
   "execution_count": 27,
   "id": "918804cf",
   "metadata": {},
   "outputs": [
    {
     "name": "stdout",
     "output_type": "stream",
     "text": [
      "0.2*(x**3 + 1)**0.5/(x**0.8*(2 - 7*x)**4) + 28*x**0.2*(x**3 + 1)**0.5/(2 - 7*x)**5 + 1.5*x**2.2/((2 - 7*x)**4*(x**3 + 1)**0.5)\n"
     ]
    }
   ],
   "source": [
    "print(diff(y, x, 1))"
   ]
  },
  {
   "cell_type": "markdown",
   "id": "f4a58c47",
   "metadata": {},
   "source": [
    "#### 4c"
   ]
  },
  {
   "cell_type": "code",
   "execution_count": 28,
   "id": "8bda340d",
   "metadata": {},
   "outputs": [
    {
     "name": "stdout",
     "output_type": "stream",
     "text": [
      "28*x**0.2*(x**3 + 1)**0.5/(-16807*x**5 + 24010*x**4 - 13720*x**3 + 3920*x**2 - 560*x + 32) + 1.5*x**2.2/(2401*x**4*(x**3 + 1)**0.5 - 2744*x**3*(x**3 + 1)**0.5 + 1176*x**2*(x**3 + 1)**0.5 - 224*x*(x**3 + 1)**0.5 + 16*(x**3 + 1)**0.5) + 0.2*(x**3 + 1)**0.5/(16*x**0.8 - 224*x**1.8 + 1176*x**2.8 - 2744*x**3.8 + 2401*x**4.8)\n",
      "28*x**0.2*(x**3 + 1)**0.5/(-16807*x**5 + 24010*x**4 - 13720*x**3 + 3920*x**2 - 560*x + 32) + 1.5*x**2.2/(2401*x**4*(x**3 + 1)**0.5 - 2744*x**3*(x**3 + 1)**0.5 + 1176*x**2*(x**3 + 1)**0.5 - 224*x*(x**3 + 1)**0.5 + 16*(x**3 + 1)**0.5) + 0.2*(x**3 + 1)**0.5/(16*x**0.8 - 224*x**1.8 + 1176*x**2.8 - 2744*x**3.8 + 2401*x**4.8)\n",
      "True\n"
     ]
    }
   ],
   "source": [
    "print((diff(expanded, x, 1) * y).expand())\n",
    "print((diff(y, x, 1)).expand())\n",
    "\n",
    "print((diff(expanded, x, 1) * y).expand() == (diff(y, x, 1)).expand())"
   ]
  }
 ],
 "metadata": {
  "kernelspec": {
   "display_name": "Python 3.10.8 64-bit (microsoft store)",
   "language": "python",
   "name": "python3"
  },
  "language_info": {
   "codemirror_mode": {
    "name": "ipython",
    "version": 3
   },
   "file_extension": ".py",
   "mimetype": "text/x-python",
   "name": "python",
   "nbconvert_exporter": "python",
   "pygments_lexer": "ipython3",
   "version": "3.10.8"
  },
  "vscode": {
   "interpreter": {
    "hash": "d1a1120d6b703f94660d8a0a86efaeba37d220648474f25f942e1d3645fcdcb7"
   }
  }
 },
 "nbformat": 4,
 "nbformat_minor": 5
}
