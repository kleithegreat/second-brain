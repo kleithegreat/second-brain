{
 "cells": [
  {
   "cell_type": "markdown",
   "id": "20c00fa5",
   "metadata": {},
   "source": [
    "## MATH 151 Lab 8"
   ]
  },
  {
   "cell_type": "markdown",
   "id": "7c243ef1",
   "metadata": {},
   "source": [
    "Put team members' names and section number here.\n",
    "\n",
    "Kevin Lei\n",
    "Jonathan Madding\n",
    "Pan Zhou\n",
    "John Schumacher\n",
    "\n",
    "Section number 576"
   ]
  },
  {
   "cell_type": "code",
   "execution_count": 1,
   "id": "2276b737",
   "metadata": {},
   "outputs": [],
   "source": [
    "from sympy import *\n",
    "from sympy.plotting import (plot,plot_parametric)"
   ]
  },
  {
   "cell_type": "markdown",
   "id": "dccee95d",
   "metadata": {},
   "source": [
    "### Question 1"
   ]
  },
  {
   "cell_type": "markdown",
   "id": "f83eae05",
   "metadata": {},
   "source": [
    "#### 1a"
   ]
  },
  {
   "cell_type": "code",
   "execution_count": null,
   "id": "06306ce5",
   "metadata": {},
   "outputs": [],
   "source": [
    "x = symbols(\"x\")\n",
    "fx = (1/40) * (x**6 + 2*x**5 - 16*x**4 - 20*x**3 + 64*x**2 - 36*x + 72)\n",
    "\n",
    "print(f\"f'(x) = {diff(fx, x, 1)}\")\n",
    "print(f\"Approximate critical numbers: x = {solve(diff(fx, x, 1))}\")\n",
    "print(f\"f'(-4) = {diff(fx, x, 1).subs(x, -4)} is negative, so f(x) is decreasing on the interval (-oo, {solve(diff(fx, x, 1))[0]})\")\n",
    "print(f\"f'(-3) = {diff(fx, x, 1).subs(x, -3)} is positive, so f(x) is increasing on the interval ({solve(diff(fx, x, 1))[0]}, {solve(diff(fx, x, 1))[1]})\")\n",
    "print(f\"f'(0) = {diff(fx, x, 1).subs(x, 0)} is negative, so f(x) is decreasing on the interval ({solve(diff(fx, x, 1))[1]}, {solve(diff(fx, x, 1))[2]})\")\n",
    "print(f\"f'(0.5) = {diff(fx, x, 1).subs(x, 0.5)} is positive, so f(x) is increasing on the interval ({solve(diff(fx, x, 1))[2]}, {solve(diff(fx, x, 1))[3]})\")\n",
    "print(f\"f'(2) = {diff(fx, x, 1).subs(x, 2)} is negative, so f(x) is decreasing on the interval ({solve(diff(fx, x, 1))[3]}, {solve(diff(fx, x, 1))[4]})\")\n",
    "print(f\"f'(4) = {diff(fx, x, 1).subs(x, 4)} is positive, so f(x) is increasing on the interval ({solve(diff(fx, x, 1))[4]}, oo)\")\n",
    "graph1 = plot(diff(fx, x, 1), (x, -5 ,5), ylim = (-5 ,5))"
   ]
  },
  {
   "cell_type": "markdown",
   "id": "b5ed0668",
   "metadata": {},
   "source": [
    "#### 1b"
   ]
  },
  {
   "cell_type": "code",
   "execution_count": null,
   "id": "c66fb3f0",
   "metadata": {},
   "outputs": [],
   "source": [
    "print(f\"f''(X) = {diff(fx, x, 2)}\")\n",
    "inflectionPoints = [N(i) for i in real_roots(diff(fx, x, 2), x)]\n",
    "print(f\"Approximate inflection values: x = {inflectionPoints}\")\n",
    "print(f\"f''(-3) = {diff(fx, x, 2).subs(x, -3)} is , so f(x) is concave up on the interval (-oo, {inflectionPoints[0]})\")\n",
    "print(f\"f''(-2) = {diff(fx, x, 2).subs(x, -2)} is , so f(x) is concave down on the interval ({inflectionPoints[0]}, {inflectionPoints[1]})\")\n",
    "print(f\"f''(0) = {diff(fx, x, 2).subs(x, 0)} is , so f(x) is concave up on the interval ({inflectionPoints[1]}, {inflectionPoints[2]})\")\n",
    "print(f\"f''(1) = {diff(fx, x, 2).subs(x, 1)} is , so f(x) is concave down on the interval ({inflectionPoints[2]}, {inflectionPoints[3]})\")\n",
    "print(f\"f''(3) = {diff(fx, x, 2).subs(x, 3)} is , so f(x) is concave up on the interval ({inflectionPoints[3]}, oo)\")\n",
    "graph1 = plot((diff(fx, x, 1), (x, -5 ,5)), (diff(fx, x, 2), (x, -5 ,5)), ylim = (-5 ,5))"
   ]
  },
  {
   "cell_type": "markdown",
   "id": "528d208e",
   "metadata": {},
   "source": [
    "#### 1c"
   ]
  },
  {
   "cell_type": "code",
   "execution_count": null,
   "id": "5e910a3b",
   "metadata": {},
   "outputs": [],
   "source": [
    "print(f\"f(x) has {len(solve(diff(fx, x, 1)))} local extrema and {len(inflectionPoints)} inflection points.\")"
   ]
  },
  {
   "cell_type": "markdown",
   "id": "e13187d3",
   "metadata": {},
   "source": [
    "#### 1d"
   ]
  },
  {
   "cell_type": "code",
   "execution_count": null,
   "id": "03bb8a2f",
   "metadata": {},
   "outputs": [],
   "source": [
    "plot(fx, (x, -10, 10), ylim = (-10, 10))"
   ]
  },
  {
   "cell_type": "markdown",
   "id": "46a2250a",
   "metadata": {},
   "source": [
    "### Question 2"
   ]
  },
  {
   "cell_type": "markdown",
   "id": "859727b7",
   "metadata": {},
   "source": [
    "#### 2a"
   ]
  },
  {
   "cell_type": "code",
   "execution_count": null,
   "id": "709b2e6f",
   "metadata": {},
   "outputs": [],
   "source": [
    "b = symbols(\"b\")\n",
    "gx = x**3 * E**(b*x**2)\n",
    "\n",
    "graph2 = plot((gx.subs(b, -3), (x, -3, 3)), ylim = (-1, 1), show = False)\n",
    "for i in range(-2, 4):\n",
    "    graph2.append(plot(gx.subs(b, i), (x, -3, 3), show = False)[0])\n",
    "graph2.show()"
   ]
  },
  {
   "cell_type": "markdown",
   "id": "4cad579b",
   "metadata": {},
   "source": [
    "#### 2b"
   ]
  },
  {
   "cell_type": "code",
   "execution_count": null,
   "id": "ed15acf0",
   "metadata": {},
   "outputs": [],
   "source": [
    "print(f\"Critical values of g: b = {solve(diff(gx, x), x)}\")\n",
    "print(\"In order for the critical values -sqrt(6)*sqrt(-1/b)/2 and sqrt(6)*sqrt(-1/b)/2 to be real, b must be negative\")"
   ]
  },
  {
   "cell_type": "markdown",
   "id": "ce63158d",
   "metadata": {},
   "source": [
    "#### 2c"
   ]
  },
  {
   "cell_type": "code",
   "execution_count": null,
   "id": "6a698242",
   "metadata": {},
   "outputs": [],
   "source": [
    "print(\"As b approaches negative infinity, the critical values approach 0.\")\n",
    "plot(gx.subs(b, -100), (x, -2, 2), ylim = (-0.0005, 0.0005), depth = 10000)"
   ]
  },
  {
   "cell_type": "markdown",
   "id": "131975ef",
   "metadata": {},
   "source": [
    "#### 2d"
   ]
  },
  {
   "cell_type": "code",
   "execution_count": null,
   "id": "2cbdedcd",
   "metadata": {},
   "outputs": [],
   "source": [
    "print(f\"Inflection points of g: b = {solve(diff(gx, x, 2), x)}\")\n",
    "print(\"All inflection points are real when b is negative.\")"
   ]
  },
  {
   "cell_type": "markdown",
   "id": "721411f8",
   "metadata": {},
   "source": [
    "#### 2e"
   ]
  },
  {
   "cell_type": "code",
   "execution_count": null,
   "id": "96137400",
   "metadata": {},
   "outputs": [],
   "source": [
    "print(f\"The critical values include -1 and 1 when b = {solve(solve(diff(gx, x, 1), x)[2] - 1, b)[0]}\")\n",
    "print(f\"The inflection points include -1 and 1 when b = {solve(solve(diff(gx, x, 2), x)[2] - 1, b)[0]} and {solve(solve(diff(gx, x, 2), x)[4] - 1, b)[0]}\")\n",
    "plot((gx.subs(b, -3/2), (x, -3, 3)), (gx.subs(b, -1/2), (x, -3, 3)), (gx.subs(b, -3), (x, -3, 3)), ylim = (-1, 1))"
   ]
  },
  {
   "cell_type": "markdown",
   "id": "d4dc1f42",
   "metadata": {},
   "source": [
    "### Question 3"
   ]
  },
  {
   "cell_type": "markdown",
   "id": "17570c6c",
   "metadata": {},
   "source": [
    "#### 3a"
   ]
  },
  {
   "cell_type": "code",
   "execution_count": null,
   "id": "09090072",
   "metadata": {},
   "outputs": [],
   "source": []
  },
  {
   "cell_type": "markdown",
   "id": "951ad982",
   "metadata": {},
   "source": [
    "#### 3b"
   ]
  },
  {
   "cell_type": "code",
   "execution_count": null,
   "id": "885c06df",
   "metadata": {},
   "outputs": [],
   "source": []
  },
  {
   "cell_type": "markdown",
   "id": "3047327f",
   "metadata": {},
   "source": [
    "#### 3c"
   ]
  },
  {
   "cell_type": "code",
   "execution_count": null,
   "id": "e9b7c01f",
   "metadata": {},
   "outputs": [],
   "source": []
  }
 ],
 "metadata": {
  "kernelspec": {
   "display_name": "Python 3.10.8 64-bit (microsoft store)",
   "language": "python",
   "name": "python3"
  },
  "language_info": {
   "codemirror_mode": {
    "name": "ipython",
    "version": 3
   },
   "file_extension": ".py",
   "mimetype": "text/x-python",
   "name": "python",
   "nbconvert_exporter": "python",
   "pygments_lexer": "ipython3",
   "version": "3.10.8"
  },
  "vscode": {
   "interpreter": {
    "hash": "bbdc6700f60de612a9776dd7a4bd392f8898b0d00245e53755bddb2281dd5e23"
   }
  }
 },
 "nbformat": 4,
 "nbformat_minor": 5
}
