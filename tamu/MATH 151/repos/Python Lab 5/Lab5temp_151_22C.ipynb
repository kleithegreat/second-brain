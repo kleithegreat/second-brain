{
 "cells": [
  {
   "cell_type": "markdown",
   "id": "20c00fa5",
   "metadata": {},
   "source": [
    "## MATH 151 Lab  5"
   ]
  },
  {
   "cell_type": "markdown",
   "id": "7c243ef1",
   "metadata": {},
   "source": [
    "Put team members' names and section number here.\n",
    "\n",
    "Kevin Lei\n",
    "Jonathan Madding\n",
    "Pan Zhou\n",
    "John Schumacher\n",
    "\n",
    "Section number 576"
   ]
  },
  {
   "cell_type": "code",
   "execution_count": 1,
   "id": "cf836732",
   "metadata": {},
   "outputs": [],
   "source": [
    "from sympy import *\n",
    "from sympy.plotting import (plot,plot_parametric)"
   ]
  },
  {
   "cell_type": "markdown",
   "id": "3169990f",
   "metadata": {},
   "source": [
    "### Question 1"
   ]
  },
  {
   "cell_type": "markdown",
   "id": "f0561a86",
   "metadata": {},
   "source": [
    "#### 1a"
   ]
  },
  {
   "cell_type": "code",
   "execution_count": 2,
   "id": "0889599a",
   "metadata": {},
   "outputs": [
    {
     "name": "stdout",
     "output_type": "stream",
     "text": [
      "f'(x) = 2*x*exp(x) + (x**2 + 1)*exp(x)\n",
      "f''(x) = (x**2 + 4*x + 3)*exp(x)\n",
      "f'''(x) = (x**2 + 6*x + 7)*exp(x)\n",
      "f''''(x) = (x**2 + 8*x + 13)*exp(x)\n",
      "f'''''(x) = (x**2 + 10*x + 21)*exp(x)\n",
      "f''''''(x) = (x**2 + 12*x + 31)*exp(x)\n",
      "f'''''''(x) = (x**2 + 14*x + 43)*exp(x)\n",
      "f''''''''(x) = (x**2 + 16*x + 57)*exp(x)\n"
     ]
    }
   ],
   "source": [
    "#8 derivatives\n",
    "x, n = symbols(\"x, n\")\n",
    "\n",
    "expr0 = E ** x * (1 + x ** 2)\n",
    "\n",
    "i = 1\n",
    "while i <= 8:\n",
    "    print(\"f\", end = \"\")\n",
    "    for j in range(i):\n",
    "        print(\"'\", end = \"\")\n",
    "    print(f\"(x) = {diff(expr0, x, i)}\")\n",
    "    i += 1"
   ]
  },
  {
   "cell_type": "markdown",
   "id": "efdd616f",
   "metadata": {},
   "source": [
    "#### 1b"
   ]
  },
  {
   "cell_type": "code",
   "execution_count": 3,
   "id": "582449e5",
   "metadata": {},
   "outputs": [
    {
     "name": "stdout",
     "output_type": "stream",
     "text": [
      "The formula for the nth derivative of f is (n**2 + 2*n*x - n + x**2 + 1)*exp(x)\n"
     ]
    }
   ],
   "source": [
    "#formula for derivative\n",
    "nthderiv = E ** x * (x ** 2 + 2 * n * x + (n ** 2 - n + 1))\n",
    "print(f\"The formula for the nth derivative of f is {nthderiv}\")"
   ]
  },
  {
   "cell_type": "markdown",
   "id": "0721fb00",
   "metadata": {},
   "source": [
    "#### 1c"
   ]
  },
  {
   "cell_type": "code",
   "execution_count": 4,
   "id": "dd38ebc1",
   "metadata": {},
   "outputs": [
    {
     "name": "stdout",
     "output_type": "stream",
     "text": [
      "(x**2 + 100*x + 2451)*exp(x)\n",
      "(x**2 + 100*x + 2451)*exp(x)\n"
     ]
    }
   ],
   "source": [
    "#50th\n",
    "print(f\"{diff(expr0, x, 50)}\")\n",
    "print(f\"{nthderiv.subs(n, 50)}\")"
   ]
  },
  {
   "cell_type": "markdown",
   "id": "8b00f000",
   "metadata": {},
   "source": [
    "### Question 2"
   ]
  },
  {
   "cell_type": "markdown",
   "id": "bacdc1db",
   "metadata": {},
   "source": [
    "#### 2a"
   ]
  },
  {
   "cell_type": "code",
   "execution_count": 5,
   "id": "be2f2c71",
   "metadata": {},
   "outputs": [
    {
     "name": "stdout",
     "output_type": "stream",
     "text": [
      "k = [-5/2, 5/2, pi/(2*t), 3*pi/(2*t)]\n"
     ]
    }
   ],
   "source": [
    "k, t = symbols(\"k, t\")\n",
    "y = cos(k * t)\n",
    "print(f\"k = {solve(4 * diff(y, t, 2) + 25 * y, k)}\")"
   ]
  },
  {
   "cell_type": "markdown",
   "id": "23bc68a6",
   "metadata": {},
   "source": [
    "#### 2b"
   ]
  },
  {
   "cell_type": "code",
   "execution_count": 6,
   "id": "357bbf0f",
   "metadata": {},
   "outputs": [
    {
     "name": "stdout",
     "output_type": "stream",
     "text": [
      "Every member of the family of functions y = A sin(kt) + B cos(kt) is also a solution for k = -5/2.\n",
      "Every member of the family of functions y = A sin(kt) + B cos(kt) is also a solution for k = 5/2.\n",
      "Not every member of the family of functions y = A sin(kt) + B cos(kt) is also a solution for k = pi/(2*t).\n",
      "Not every member of the family of functions y = A sin(kt) + B cos(kt) is also a solution for k = 3*pi/(2*t).\n"
     ]
    }
   ],
   "source": [
    "A, B = symbols(\"A, B\")\n",
    "eq = A * sin(k * t) + B * cos(k * t)\n",
    "for i in solve(4 * diff(y, t, 2) + 25 * y, k):\n",
    "    if (4 * diff(eq, t, 2) + 25 * eq).subs(k, i) == 0:\n",
    "        print(f\"Every member of the family of functions y = A sin(kt) + B cos(kt) is also a solution for k = {i}.\")\n",
    "    else:\n",
    "        print(f\"Not every member of the family of functions y = A sin(kt) + B cos(kt) is also a solution for k = {i}.\")"
   ]
  },
  {
   "cell_type": "markdown",
   "id": "1fb8b9b8",
   "metadata": {},
   "source": [
    "### Question 3"
   ]
  },
  {
   "cell_type": "markdown",
   "id": "ccffd0d0",
   "metadata": {},
   "source": [
    "#### 3a"
   ]
  },
  {
   "cell_type": "code",
   "execution_count": 7,
   "id": "9ebb9309",
   "metadata": {},
   "outputs": [
    {
     "name": "stdout",
     "output_type": "stream",
     "text": [
      "-18*(t - 2)**9/(2*t + 1)**10 + 9*(t - 2)**8/(2*t + 1)**9\n"
     ]
    }
   ],
   "source": [
    "#derivative\n",
    "g = ((t - 2) / (2 * t + 1)) ** 9\n",
    "print(diff(g, t, 1))"
   ]
  },
  {
   "cell_type": "markdown",
   "id": "baa2be1a",
   "metadata": {},
   "source": [
    "#### 3b"
   ]
  },
  {
   "cell_type": "code",
   "execution_count": 8,
   "id": "ed50b7a1",
   "metadata": {},
   "outputs": [
    {
     "name": "stdout",
     "output_type": "stream",
     "text": [
      "45*(t - 2)**8/(2*t + 1)**10\n"
     ]
    }
   ],
   "source": [
    "#simplify\n",
    "print(simplify(diff(g, t, 1)))"
   ]
  },
  {
   "cell_type": "markdown",
   "id": "f78847a1",
   "metadata": {},
   "source": [
    "#### 3c"
   ]
  },
  {
   "cell_type": "code",
   "execution_count": 9,
   "id": "9fff1823",
   "metadata": {},
   "outputs": [
    {
     "name": "stdout",
     "output_type": "stream",
     "text": [
      "Function g would have a horizontal tangent line at x = [2]\n"
     ]
    }
   ],
   "source": [
    "#horizontal tangent lines\n",
    "print(f\"Function g would have a horizontal tangent line at x = {solve(diff(g, t, 1), t)}\")"
   ]
  },
  {
   "cell_type": "markdown",
   "id": "ded46854",
   "metadata": {},
   "source": [
    "#### 3d"
   ]
  },
  {
   "cell_type": "code",
   "execution_count": 10,
   "id": "629e860f",
   "metadata": {},
   "outputs": [
    {
     "name": "stdout",
     "output_type": "stream",
     "text": [
      "(2*t + 1)**5*(8*t - 4)*(t**2 - t + 2)**3 + 10*(2*t + 1)**4*(t**2 - t + 2)**4\n"
     ]
    }
   ],
   "source": [
    "#derivative\n",
    "f = (2 * t + 1) ** 5 * (t ** 2 - t + 2) ** 4\n",
    "print(diff(f, t, 1))"
   ]
  },
  {
   "cell_type": "markdown",
   "id": "bba9a046",
   "metadata": {},
   "source": [
    "#### 3e"
   ]
  },
  {
   "cell_type": "code",
   "execution_count": 11,
   "id": "9fec14c5",
   "metadata": {},
   "outputs": [
    {
     "name": "stdout",
     "output_type": "stream",
     "text": [
      "(2*t + 1)**4*(t**2 - t + 2)**3*(10*t**2 - 10*t + 4*(2*t - 1)*(2*t + 1) + 20)\n"
     ]
    }
   ],
   "source": [
    "#simplify\n",
    "print(simplify(diff(f, t, 1)))"
   ]
  },
  {
   "cell_type": "markdown",
   "id": "7eb41f76",
   "metadata": {},
   "source": [
    "#### 3f"
   ]
  },
  {
   "cell_type": "code",
   "execution_count": 12,
   "id": "c267bbc0",
   "metadata": {},
   "outputs": [
    {
     "name": "stdout",
     "output_type": "stream",
     "text": [
      "2*(2*t + 1)**4*(t**2 - t + 2)**3*(13*t**2 - 5*t + 8)\n"
     ]
    }
   ],
   "source": [
    "#factor\n",
    "print(factor(diff(f, t, 1)))"
   ]
  },
  {
   "cell_type": "markdown",
   "id": "0f99cdb9",
   "metadata": {},
   "source": [
    "#### 3g"
   ]
  },
  {
   "cell_type": "code",
   "execution_count": 13,
   "id": "c2db4f2a",
   "metadata": {},
   "outputs": [
    {
     "name": "stdout",
     "output_type": "stream",
     "text": [
      "The factored version would be more useful for locating the horizontal tangent lines of f(t) since in its factored form, it is easier to see where t could equal zero, which is really just where the derivative is equal to zero or a horizontal tangent.\n"
     ]
    }
   ],
   "source": [
    "print(\"The factored version would be more useful for locating the horizontal tangent lines of f(t) since in its factored form, it is easier to see where t could equal zero, which is really just where the derivative is equal to zero or a horizontal tangent.\")"
   ]
  },
  {
   "cell_type": "markdown",
   "id": "f9fde57e",
   "metadata": {},
   "source": [
    "### Question 4"
   ]
  },
  {
   "cell_type": "markdown",
   "id": "7e54bb48",
   "metadata": {},
   "source": [
    "#### 4a"
   ]
  },
  {
   "cell_type": "code",
   "execution_count": 14,
   "id": "3ce0b4af",
   "metadata": {},
   "outputs": [
    {
     "name": "stdout",
     "output_type": "stream",
     "text": [
      "F'(theta) = W*mu*(-mu*cos(theta) + sin(theta))/(mu*sin(theta) + cos(theta))**2\n"
     ]
    }
   ],
   "source": [
    "#ROC \n",
    "mu, W, theta = symbols(\"mu, W, theta\")\n",
    "F = mu * W / (mu * sin(theta) + cos(theta))\n",
    "\n",
    "print(f\"F'(theta) = {diff(F, theta, 1)}\")"
   ]
  },
  {
   "cell_type": "markdown",
   "id": "cd9781f6",
   "metadata": {},
   "source": [
    "#### 4b"
   ]
  },
  {
   "cell_type": "code",
   "execution_count": 15,
   "id": "918804cf",
   "metadata": {},
   "outputs": [
    {
     "name": "stdout",
     "output_type": "stream",
     "text": [
      "theta = [2*atan((sqrt(mu**2 + 1) - 1)/mu), -2*atan((sqrt(mu**2 + 1) + 1)/mu)]\n"
     ]
    }
   ],
   "source": [
    "#ROC = 0\n",
    "print(f\"theta = {solve(diff(F, theta, 1), theta)}\")"
   ]
  },
  {
   "cell_type": "markdown",
   "id": "f4a58c47",
   "metadata": {},
   "source": [
    "#### 4c"
   ]
  },
  {
   "cell_type": "code",
   "execution_count": 16,
   "id": "8bda340d",
   "metadata": {},
   "outputs": [
    {
     "data": {
      "image/png": "[encoded data removed]",
      "text/plain": [
       "<Figure size 640x480 with 1 Axes>"
      ]
     },
     "metadata": {},
     "output_type": "display_data"
    },
    {
     "name": "stdout",
     "output_type": "stream",
     "text": [
      "According to the graph, the values of theta where dF/dTheta = 0 is about -2.5 and 0.5\n"
     ]
    }
   ],
   "source": [
    "#graph\n",
    "plot(diff(F.subs([(W, 100), (mu, 0.6)]), theta, 1), (theta, -1 * pi, pi), ylim = (-1, 1))\n",
    "print(\"According to the graph, the values of theta where dF/dTheta = 0 is about -2.5 and 0.5\")"
   ]
  },
  {
   "cell_type": "markdown",
   "id": "3c94da4c",
   "metadata": {},
   "source": [
    "#### 4d"
   ]
  },
  {
   "cell_type": "code",
   "execution_count": 17,
   "id": "dacc44c7",
   "metadata": {},
   "outputs": [
    {
     "name": "stdout",
     "output_type": "stream",
     "text": [
      "Given the conditions of part c, dF/dTheta equals zero in the domain of [-pi, pi] when theta equals 0.540419500270584 and -2.60117315331921.\n"
     ]
    }
   ],
   "source": [
    "#verify (c)\n",
    "print(f\"Given the conditions of part c, dF/dTheta equals zero in the domain of [-pi, pi] when theta equals {solve(diff(F.subs([(W, 100), (mu, 0.6)]), theta, 1), theta)[0]} and {N(solve(diff(F.subs([(W, 100), (mu, 0.6)]), theta, 1), theta)[0] - pi)}.\")"
   ]
  }
 ],
 "metadata": {
  "kernelspec": {
   "display_name": "Python 3.10.7 64-bit (microsoft store)",
   "language": "python",
   "name": "python3"
  },
  "language_info": {
   "codemirror_mode": {
    "name": "ipython",
    "version": 3
   },
   "file_extension": ".py",
   "mimetype": "text/x-python",
   "name": "python",
   "nbconvert_exporter": "python",
   "pygments_lexer": "ipython3",
   "version": "3.10.7"
  },
  "vscode": {
   "interpreter": {
    "hash": "d1a1120d6b703f94660d8a0a86efaeba37d220648474f25f942e1d3645fcdcb7"
   }
  }
 },
 "nbformat": 4,
 "nbformat_minor": 5
}
