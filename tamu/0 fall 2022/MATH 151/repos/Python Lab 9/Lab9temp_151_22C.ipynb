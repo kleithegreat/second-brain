{
 "cells": [
  {
   "cell_type": "markdown",
   "id": "20c00fa5",
   "metadata": {},
   "source": [
    "## MATH 151 Lab 8"
   ]
  },
  {
   "cell_type": "markdown",
   "id": "7c243ef1",
   "metadata": {},
   "source": [
    "Put team members' names and section number here.\n",
    "\n",
    "Kevin Lei\n",
    "Jonathan Madding\n",
    "Pan Zhou\n",
    "John Schumacher\n",
    "\n",
    "Section number 576"
   ]
  },
  {
   "cell_type": "code",
   "execution_count": 9,
   "id": "2276b737",
   "metadata": {},
   "outputs": [],
   "source": [
    "from sympy import *\n",
    "from sympy.plotting import (plot,plot_parametric)\n",
    "import math"
   ]
  },
  {
   "cell_type": "markdown",
   "id": "dccee95d",
   "metadata": {},
   "source": [
    "### Question 1"
   ]
  },
  {
   "cell_type": "markdown",
   "id": "f83eae05",
   "metadata": {},
   "source": [
    "#### 1a"
   ]
  },
  {
   "cell_type": "code",
   "execution_count": 10,
   "id": "06306ce5",
   "metadata": {},
   "outputs": [],
   "source": [
    "x = symbols(\"x\")\n",
    "y = (1 + 26/x)**x\n",
    "\n",
    "f = ln(1 + 26/x)\n",
    "g = x**-1"
   ]
  },
  {
   "cell_type": "markdown",
   "id": "b5ed0668",
   "metadata": {},
   "source": [
    "#### 1b"
   ]
  },
  {
   "cell_type": "code",
   "execution_count": 11,
   "id": "c66fb3f0",
   "metadata": {},
   "outputs": [
    {
     "name": "stdout",
     "output_type": "stream",
     "text": [
      "THe limit of f as x approaches infinity is 0\n",
      "THe limit of g as x approaches infinity is 0\n"
     ]
    }
   ],
   "source": [
    "print(f\"THe limit of f as x approaches infinity is {limit(f, x, oo)}\")\n",
    "print(f\"THe limit of g as x approaches infinity is {limit(g, x, oo)}\")"
   ]
  },
  {
   "cell_type": "markdown",
   "id": "142cb09a",
   "metadata": {},
   "source": [
    "#### 1c"
   ]
  },
  {
   "cell_type": "code",
   "execution_count": 12,
   "id": "e7783255",
   "metadata": {},
   "outputs": [
    {
     "name": "stdout",
     "output_type": "stream",
     "text": [
      "The limit of y as x approaches infinity is exp(26)\n"
     ]
    }
   ],
   "source": [
    "print(f\"The limit of y as x approaches infinity is {E**limit(diff(f, x)/diff(g, x), x, oo)}\")"
   ]
  },
  {
   "cell_type": "markdown",
   "id": "81e1eea6",
   "metadata": {},
   "source": [
    "#### 1d"
   ]
  },
  {
   "cell_type": "code",
   "execution_count": 13,
   "id": "36c3e65d",
   "metadata": {},
   "outputs": [
    {
     "name": "stdout",
     "output_type": "stream",
     "text": [
      "exp(26) is equal to exp(26)\n"
     ]
    }
   ],
   "source": [
    "print(f\"{limit(y, x ,oo)} is equal to {E**limit(diff(f, x)/diff(g, x), x, oo)}\")"
   ]
  },
  {
   "cell_type": "markdown",
   "id": "46a2250a",
   "metadata": {},
   "source": [
    "### Question 2"
   ]
  },
  {
   "cell_type": "markdown",
   "id": "859727b7",
   "metadata": {},
   "source": [
    "#### 2a"
   ]
  },
  {
   "cell_type": "code",
   "execution_count": 14,
   "id": "709b2e6f",
   "metadata": {},
   "outputs": [
    {
     "name": "stdout",
     "output_type": "stream",
     "text": [
      "The radius of the billboard would have to be 5*sqrt(74) or 43.0116263352131 inches.\n"
     ]
    }
   ],
   "source": [
    "print(f\"The radius of the billboard would have to be {sqrt((50 + 10 + 10)**2 + (42 + 4 + 4)**2) / 2} or {(sqrt((50 + 10 + 10)**2 + (42 + 4 + 4)**2) / 2).evalf()} inches.\")"
   ]
  },
  {
   "cell_type": "markdown",
   "id": "4cad579b",
   "metadata": {},
   "source": [
    "#### 2b"
   ]
  },
  {
   "cell_type": "code",
   "execution_count": 15,
   "id": "ed15acf0",
   "metadata": {},
   "outputs": [
    {
     "name": "stdout",
     "output_type": "stream",
     "text": [
      "The dimensions a = 12 and b = -20 + 30*sqrt(13) would maximize the area of the picture in the frame.\n"
     ]
    }
   ],
   "source": [
    "frameWidth, frameHeight = symbols(\"frameWidth frameHeight\")\n",
    "Area = (frameWidth - 8) * (frameHeight - 20)\n",
    "frameHeight = solve(frameWidth**2 + frameHeight**2 - (55 * 2)**2, frameHeight)[1]\n",
    "criticalValue = solve(diff(Area, frameWidth))[0]\n",
    "print(f\"The dimensions a = {criticalValue - 8} and b = {frameHeight.subs(frameWidth, criticalValue) - 20} would maximize the area of the picture in the frame.\")"
   ]
  },
  {
   "cell_type": "markdown",
   "id": "d4dc1f42",
   "metadata": {},
   "source": [
    "### Question 3"
   ]
  },
  {
   "cell_type": "markdown",
   "id": "17570c6c",
   "metadata": {},
   "source": [
    "#### 3a"
   ]
  },
  {
   "cell_type": "code",
   "execution_count": 16,
   "id": "09090072",
   "metadata": {},
   "outputs": [
    {
     "data": {
      "image/png": "[encoded data removed]",
      "text/plain": [
       "<Figure size 640x480 with 1 Axes>"
      ]
     },
     "metadata": {},
     "output_type": "display_data"
    },
    {
     "data": {
      "text/plain": [
       "<sympy.plotting.plot.Plot at 0x26b59207430>"
      ]
     },
     "execution_count": 16,
     "metadata": {},
     "output_type": "execute_result"
    }
   ],
   "source": [
    "R1, R2, h = symbols('R1 R2 h')\n",
    "Vh = 1770/(math.pi*(R1**2+R2**2+R1*R2))\n",
    "SA = math.pi*(R1 + R2)*sqrt((R2 - R1)**2 + h**2) + math.pi*(R1**2 + R2**2)\n",
    "SA = SA.subs(h, Vh)\n",
    "SA = SA.subs(R2, 2*R1)\n",
    "dSA = diff(SA, R1)\n",
    "mini = solve(dSA, R1)\n",
    "\n",
    "plot(dSA, (R1,0,5), ylim = (-300,800))"
   ]
  },
  {
   "cell_type": "markdown",
   "id": "951ad982",
   "metadata": {},
   "source": [
    "#### 3b"
   ]
  },
  {
   "cell_type": "code",
   "execution_count": 17,
   "id": "885c06df",
   "metadata": {},
   "outputs": [
    {
     "name": "stdout",
     "output_type": "stream",
     "text": [
      "There is a minimum on SA at R1 = 2.73235307040265 because because f' = 0 and f'' > 0\n",
      "R1 = 2.73235307040265\n",
      "R2 = 5.46470614080531\n",
      "h = 10.7808181056803\n"
     ]
    }
   ],
   "source": [
    "print(f\"There is a minimum on SA at R1 = {mini[0]} because because f' = 0 and f'' > 0\")\n",
    "print(f'R1 = {mini[0]}')\n",
    "print(f'R2 = {2*mini[0]}')\n",
    "print(f'h = {Vh.subs([(R1, mini[0]),(R2,2*mini[0])])}')"
   ]
  },
  {
   "cell_type": "markdown",
   "id": "3047327f",
   "metadata": {},
   "source": [
    "### Question 4"
   ]
  },
  {
   "cell_type": "markdown",
   "id": "ab7099ec",
   "metadata": {},
   "source": [
    "#### 4a"
   ]
  },
  {
   "cell_type": "code",
   "execution_count": 18,
   "id": "b7cad195",
   "metadata": {},
   "outputs": [
    {
     "name": "stdout",
     "output_type": "stream",
     "text": [
      "f'(x) = 8 - 5/(x + 1)\n",
      "f(x) = 8*x - 5*log(x + 1) + 9\n"
     ]
    }
   ],
   "source": [
    "x = symbols(\"x\")\n",
    "f2dx = 5 / (x + 1) ** 2\n",
    "\n",
    "fdx = integrate(f2dx, x) + 3 - integrate(f2dx, x).subs(x, 0)\n",
    "print(f\"f'(x) = {fdx}\")\n",
    "fx = integrate(fdx, x) + 9 - integrate(fdx, x).subs(x, 0)\n",
    "print(f\"f(x) = {fx}\")"
   ]
  },
  {
   "cell_type": "markdown",
   "id": "575405be",
   "metadata": {},
   "source": [
    "#### 4b"
   ]
  },
  {
   "cell_type": "code",
   "execution_count": 19,
   "id": "ee8eb7a3",
   "metadata": {},
   "outputs": [
    {
     "name": "stdout",
     "output_type": "stream",
     "text": [
      "(-5*log(2)/3 + 5*log(5)/3, -5*log(5)/3 + 20*log(2)/3 + 10)\n",
      "f(x) = x*(-5*log(2)/3 + 5*log(5)/3) - 5*log(x + 1) - 5*log(5)/3 + 20*log(2)/3 + 10\n"
     ]
    }
   ],
   "source": [
    "c1, c2 = symbols(\"c1 c2\")\n",
    "fdx = integrate(f2dx, x) + c1\n",
    "fx = integrate(fdx, x) + c2\n",
    "solns = list(linsolve([fx.subs(x, 1) - 10, fx.subs(x, 4) - 10], (c1, c2)))[0]\n",
    "print(solns)\n",
    "print(f\"f(x) = {fx.subs([(c1, solns[0]), (c2, solns[1])])}\")\n"
   ]
  }
 ],
 "metadata": {
  "kernelspec": {
   "display_name": "Python 3.10.8 64-bit (microsoft store)",
   "language": "python",
   "name": "python3"
  },
  "language_info": {
   "codemirror_mode": {
    "name": "ipython",
    "version": 3
   },
   "file_extension": ".py",
   "mimetype": "text/x-python",
   "name": "python",
   "nbconvert_exporter": "python",
   "pygments_lexer": "ipython3",
   "version": "3.10.8"
  },
  "vscode": {
   "interpreter": {
    "hash": "bbdc6700f60de612a9776dd7a4bd392f8898b0d00245e53755bddb2281dd5e23"
   }
  }
 },
 "nbformat": 4,
 "nbformat_minor": 5
}
