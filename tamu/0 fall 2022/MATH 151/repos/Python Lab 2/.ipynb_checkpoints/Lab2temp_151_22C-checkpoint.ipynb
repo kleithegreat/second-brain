{
 "cells": [
  {
   "cell_type": "markdown",
   "id": "20c00fa5",
   "metadata": {},
   "source": [
    "## MATH 151 Lab  2"
   ]
  },
  {
   "cell_type": "markdown",
   "id": "7c243ef1",
   "metadata": {},
   "source": [
    "Put team members' names and section number here.\n",
    "Kevin Lei\n",
    "Jonathan Madding\n",
    "John Schumacher\n",
    "Pan Zhou\n",
    "\n",
    "Section 576"
   ]
  },
  {
   "cell_type": "code",
   "execution_count": 4,
   "id": "cf836732",
   "metadata": {},
   "outputs": [],
   "source": [
    "from sympy import *\n",
    "from sympy.plotting import (plot,plot_parametric)\n",
    "\n",
    "import math\n",
    "a, b, c, d = symbols('a, b, c, d')"
   ]
  },
  {
   "cell_type": "markdown",
   "id": "3169990f",
   "metadata": {},
   "source": [
    "### Question 1"
   ]
  },
  {
   "cell_type": "markdown",
   "id": "f0561a86",
   "metadata": {},
   "source": [
    "#### 1a"
   ]
  },
  {
   "cell_type": "code",
   "execution_count": 5,
   "id": "cbfab3f6",
   "metadata": {},
   "outputs": [
    {
     "name": "stdout",
     "output_type": "stream",
     "text": [
      "[-3/2 - sqrt(5)/2, -3/2 + sqrt(5)/2]\n"
     ]
    }
   ],
   "source": [
    "a, b, c, d = symbols('a, b, c, d')\n",
    "expr0 = 1 + a * (a + 1)* (a + 2) * (a + 3)\n",
    "print(solve(expr0, a))"
   ]
  },
  {
   "cell_type": "markdown",
   "id": "efdd616f",
   "metadata": {},
   "source": [
    "#### 1b"
   ]
  },
  {
   "cell_type": "code",
   "execution_count": 6,
   "id": "6fd5ac31",
   "metadata": {},
   "outputs": [
    {
     "name": "stdout",
     "output_type": "stream",
     "text": [
      "a**4 + 6*a**3 + 11*a**2 + 6*a + 1\n"
     ]
    }
   ],
   "source": [
    "a, b, c, d = symbols('a, b, c, d')\n",
    "expr0 = 1 + a * (a + 1)* (a + 2) * (a + 3)\n",
    "print(expand(expr0))"
   ]
  },
  {
   "cell_type": "markdown",
   "id": "b4d3d3ac",
   "metadata": {},
   "source": [
    "#### 1c"
   ]
  },
  {
   "cell_type": "code",
   "execution_count": 7,
   "id": "a08b7797",
   "metadata": {},
   "outputs": [
    {
     "name": "stdout",
     "output_type": "stream",
     "text": [
      "(a**2 + 3*a + 1)**2\n"
     ]
    }
   ],
   "source": [
    "a, b, c, d = symbols('a, b, c, d')\n",
    "expr0 = 1 + a * (a + 1)* (a + 2) * (a + 3)\n",
    "print(factor(expr0))"
   ]
  },
  {
   "cell_type": "markdown",
   "id": "8111d61d",
   "metadata": {},
   "source": [
    "#### 1d"
   ]
  },
  {
   "cell_type": "code",
   "execution_count": 8,
   "id": "afbad488",
   "metadata": {},
   "outputs": [
    {
     "data": {
      "image/png": "[encoded data removed]",
      "text/plain": [
       "<Figure size 432x288 with 1 Axes>"
      ]
     },
     "metadata": {
      "needs_background": "light"
     },
     "output_type": "display_data"
    },
    {
     "data": {
      "text/plain": [
       "<sympy.plotting.plot.Plot at 0x1b416a29b50>"
      ]
     },
     "execution_count": 8,
     "metadata": {},
     "output_type": "execute_result"
    }
   ],
   "source": [
    "a, b, c, d = symbols('a, b, c, d')\n",
    "expr0 = 1 + a * (a + 1)* (a + 2) * (a + 3)\n",
    "plot(expr0, (a, -5, 1), ylim = [-5, 5])"
   ]
  },
  {
   "cell_type": "markdown",
   "id": "8b00f000",
   "metadata": {},
   "source": [
    "### Question 2"
   ]
  },
  {
   "cell_type": "markdown",
   "id": "bacdc1db",
   "metadata": {},
   "source": [
    "#### 2a"
   ]
  },
  {
   "cell_type": "code",
   "execution_count": 9,
   "id": "be2f2c71",
   "metadata": {},
   "outputs": [
    {
     "name": "stdout",
     "output_type": "stream",
     "text": [
      "1.10656667034498\n"
     ]
    }
   ],
   "source": [
    "a, b, c, d = symbols('a, b, c, d')\n",
    "expr1 = (-1 / 2) * b * c ** 2 + d\n",
    "expr2 = -1 * a * b * c - a ** 2 * b * E ** (-c / a) + a ** 2 * b + d\n",
    "\n",
    "print(solve(expr1.subs([(b, 9.8), (d, 6)]), c)[1])"
   ]
  },
  {
   "cell_type": "markdown",
   "id": "23bc68a6",
   "metadata": {},
   "source": [
    "#### 2b"
   ]
  },
  {
   "cell_type": "code",
   "execution_count": 11,
   "id": "357bbf0f",
   "metadata": {},
   "outputs": [
    {
     "name": "stdout",
     "output_type": "stream",
     "text": [
      "1.21873095569557\n"
     ]
    }
   ],
   "source": [
    "a, b, c, d = symbols('a, b, c, d')\n",
    "expr1 = (-1 / 2) * b * c ** 2 + d\n",
    "expr2 = -1 * a * b * c - a ** 2 * b * E ** (-c / a) + a ** 2 * b + d\n",
    "\n",
    "print(solve(expr2.subs([(a, 2), (b, 9.8), (d, 6)]), c)[1])"
   ]
  },
  {
   "cell_type": "markdown",
   "id": "d4c7adb9",
   "metadata": {},
   "source": [
    "#### 2c"
   ]
  },
  {
   "cell_type": "code",
   "execution_count": 12,
   "id": "e20a3063",
   "metadata": {},
   "outputs": [
    {
     "data": {
      "image/png": "[encoded data removed]",
      "text/plain": [
       "<Figure size 432x288 with 1 Axes>"
      ]
     },
     "metadata": {
      "needs_background": "light"
     },
     "output_type": "display_data"
    },
    {
     "data": {
      "text/plain": [
       "<sympy.plotting.plot.Plot at 0x1b418bf4910>"
      ]
     },
     "execution_count": 12,
     "metadata": {},
     "output_type": "execute_result"
    }
   ],
   "source": [
    "a, b, c, d = symbols('a, b, c, d')\n",
    "expr1 = (-1 / 2) * b * c ** 2 + d\n",
    "expr2 = -1 * a * b * c - a ** 2 * b * E ** (-c / a) + a ** 2 * b + d\n",
    "\n",
    "plot(expr1.subs([(b, 9.8), (d, 6)]), expr2.subs([(a, 2), (b, 9.8), (d, 6)]), (c, 0, 3), ylim = [-2, 8])"
   ]
  },
  {
   "cell_type": "markdown",
   "id": "1fb8b9b8",
   "metadata": {},
   "source": [
    "### Question 3"
   ]
  },
  {
   "cell_type": "markdown",
   "id": "ccffd0d0",
   "metadata": {},
   "source": [
    "#### 3a"
   ]
  },
  {
   "cell_type": "code",
   "execution_count": 13,
   "id": "9ebb9309",
   "metadata": {},
   "outputs": [
    {
     "data": {
      "image/png": "[encoded data removed]",
      "text/plain": [
       "<Figure size 432x288 with 1 Axes>"
      ]
     },
     "metadata": {
      "needs_background": "light"
     },
     "output_type": "display_data"
    },
    {
     "data": {
      "text/plain": [
       "<sympy.plotting.plot.Plot at 0x1b41998f790>"
      ]
     },
     "execution_count": 13,
     "metadata": {},
     "output_type": "execute_result"
    }
   ],
   "source": [
    "a, b, c, d = symbols('a, b, c, d')\n",
    "\n",
    "expr3 = a * sin(c * d)\n",
    "expr4 = b * cos(d)\n",
    "\n",
    "ix = expr3.subs([(a, 1), (c, 2)])\n",
    "iy = expr4.subs([(b, 1)])\n",
    "\n",
    "iix = expr3.subs([(a, 3), (c, 2)])\n",
    "iiy = expr4.subs([(b, 1)])\n",
    "\n",
    "iiix = expr3.subs([(a, 1), (c, 3)])\n",
    "iiiy = expr4.subs([(b, 2)])\n",
    "plot_parametric((ix, iy), (iix, iiy), (iiix, iiiy))"
   ]
  },
  {
   "cell_type": "markdown",
   "id": "baa2be1a",
   "metadata": {},
   "source": [
    "#### 3b"
   ]
  },
  {
   "cell_type": "code",
   "execution_count": 2,
   "id": "6c67d267",
   "metadata": {},
   "outputs": [
    {
     "name": "stdout",
     "output_type": "stream",
     "text": [
      "variable a changes the width of the lissajous figure where numbers whose absolute value is greater than one increase width while numbers whose absolute value is between one and zero decrease the width\n",
      "variable b changes the height of the lissajous figure in the same way variable a changes the width; numbers whose absolute value is greater than one increase the height while numbers whose absolute value is between zero and one decrease the height\n",
      "variable n changes the number of oscillations between the top and bottom of the lissajous figure\n"
     ]
    }
   ],
   "source": [
    "#start code here\n",
    "\n",
    "print(\"variable a changes the width of the lissajous figure where numbers whose absolute value is greater than one increase width while numbers whose absolute value is between one and zero decrease the width\")\n",
    "print(\"variable b changes the height of the lissajous figure in the same way variable a changes the width; numbers whose absolute value is greater than one increase the height while numbers whose absolute value is between zero and one decrease the height\")\n",
    "print(\"variable n changes the number of oscillations between the top and bottom of the lissajous figure\")"
   ]
  },
  {
   "cell_type": "code",
   "execution_count": null,
   "id": "fd2b2e70",
   "metadata": {},
   "outputs": [],
   "source": []
  }
 ],
 "metadata": {
  "kernelspec": {
   "display_name": "Python 3 (ipykernel)",
   "language": "python",
   "name": "python3"
  },
  "language_info": {
   "codemirror_mode": {
    "name": "ipython",
    "version": 3
   },
   "file_extension": ".py",
   "mimetype": "text/x-python",
   "name": "python",
   "nbconvert_exporter": "python",
   "pygments_lexer": "ipython3",
   "version": "3.9.12"
  }
 },
 "nbformat": 4,
 "nbformat_minor": 5
}
